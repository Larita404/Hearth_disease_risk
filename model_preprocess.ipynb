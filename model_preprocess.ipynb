{
  "cells": [
    {
      "cell_type": "code",
      "execution_count": 18,
      "metadata": {
        "id": "_UJkLnrD2yzP"
      },
      "outputs": [],
      "source": [
        "import pandas as pd\n",
        "import seaborn as sns\n",
        "import matplotlib.pyplot as plt\n",
        "import numpy as np"
      ]
    },
    {
      "cell_type": "code",
      "execution_count": 4,
      "metadata": {
        "id": "KoXBsZ642yzS"
      },
      "outputs": [],
      "source": [
        "df = pd.read_csv('/content/CVD_cleaned.csv')"
      ]
    },
    {
      "cell_type": "code",
      "execution_count": 6,
      "metadata": {
        "id": "9JsD8E9M2yzU",
        "outputId": "ef6b8549-428a-485e-fee6-b652e2cb123b",
        "colab": {
          "base_uri": "https://localhost:8080/"
        }
      },
      "outputs": [
        {
          "output_type": "stream",
          "name": "stdout",
          "text": [
            "<class 'pandas.core.frame.DataFrame'>\n",
            "RangeIndex: 308854 entries, 0 to 308853\n",
            "Data columns (total 19 columns):\n",
            " #   Column                        Non-Null Count   Dtype  \n",
            "---  ------                        --------------   -----  \n",
            " 0   General_Health                308854 non-null  object \n",
            " 1   Checkup                       308854 non-null  object \n",
            " 2   Exercise                      308854 non-null  object \n",
            " 3   Heart_Disease                 308854 non-null  object \n",
            " 4   Skin_Cancer                   308854 non-null  object \n",
            " 5   Other_Cancer                  308854 non-null  object \n",
            " 6   Depression                    308854 non-null  object \n",
            " 7   Diabetes                      308854 non-null  object \n",
            " 8   Arthritis                     308854 non-null  object \n",
            " 9   Sex                           308854 non-null  object \n",
            " 10  Age_Category                  308854 non-null  object \n",
            " 11  Height_(cm)                   308854 non-null  float64\n",
            " 12  Weight_(kg)                   308854 non-null  float64\n",
            " 13  BMI                           308854 non-null  float64\n",
            " 14  Smoking_History               308854 non-null  object \n",
            " 15  Alcohol_Consumption           308854 non-null  float64\n",
            " 16  Fruit_Consumption             308854 non-null  float64\n",
            " 17  Green_Vegetables_Consumption  308854 non-null  float64\n",
            " 18  FriedPotato_Consumption       308854 non-null  float64\n",
            "dtypes: float64(7), object(12)\n",
            "memory usage: 44.8+ MB\n"
          ]
        }
      ],
      "source": [
        "df.info()\n",
        "# 19 features identificadas"
      ]
    },
    {
      "cell_type": "code",
      "source": [
        "non_numeric_cols = df.select_dtypes(exclude=np.number).columns\n",
        "\n",
        "non_numeric_cols"
      ],
      "metadata": {
        "colab": {
          "base_uri": "https://localhost:8080/"
        },
        "id": "bIhE37Hu8pGC",
        "outputId": "117b1c47-284c-4586-ea4d-de14161183b3"
      },
      "execution_count": 7,
      "outputs": [
        {
          "output_type": "execute_result",
          "data": {
            "text/plain": [
              "Index(['General_Health', 'Checkup', 'Exercise', 'Heart_Disease', 'Skin_Cancer',\n",
              "       'Other_Cancer', 'Depression', 'Diabetes', 'Arthritis', 'Sex',\n",
              "       'Age_Category', 'Smoking_History'],\n",
              "      dtype='object')"
            ]
          },
          "metadata": {},
          "execution_count": 7
        }
      ]
    },
    {
      "cell_type": "code",
      "source": [
        "for col in non_numeric_cols:\n",
        "    print(f\"Value counts for column '{col}':\")\n",
        "    print(df[col].value_counts())\n",
        "    print(\"-\" * 20)"
      ],
      "metadata": {
        "colab": {
          "base_uri": "https://localhost:8080/"
        },
        "id": "E30p3bQENvI0",
        "outputId": "2c7aedff-77de-4a34-f500-0526fc61ca93"
      },
      "execution_count": 8,
      "outputs": [
        {
          "output_type": "stream",
          "name": "stdout",
          "text": [
            "Value counts for column 'General_Health':\n",
            "General_Health\n",
            "Very Good    110395\n",
            "Good          95364\n",
            "Excellent     55954\n",
            "Fair          35810\n",
            "Poor          11331\n",
            "Name: count, dtype: int64\n",
            "--------------------\n",
            "Value counts for column 'Checkup':\n",
            "Checkup\n",
            "Within the past year       239371\n",
            "Within the past 2 years     37213\n",
            "Within the past 5 years     17442\n",
            "5 or more years ago         13421\n",
            "Never                        1407\n",
            "Name: count, dtype: int64\n",
            "--------------------\n",
            "Value counts for column 'Exercise':\n",
            "Exercise\n",
            "Yes    239381\n",
            "No      69473\n",
            "Name: count, dtype: int64\n",
            "--------------------\n",
            "Value counts for column 'Heart_Disease':\n",
            "Heart_Disease\n",
            "No     283883\n",
            "Yes     24971\n",
            "Name: count, dtype: int64\n",
            "--------------------\n",
            "Value counts for column 'Skin_Cancer':\n",
            "Skin_Cancer\n",
            "No     278860\n",
            "Yes     29994\n",
            "Name: count, dtype: int64\n",
            "--------------------\n",
            "Value counts for column 'Other_Cancer':\n",
            "Other_Cancer\n",
            "No     278976\n",
            "Yes     29878\n",
            "Name: count, dtype: int64\n",
            "--------------------\n",
            "Value counts for column 'Depression':\n",
            "Depression\n",
            "No     246953\n",
            "Yes     61901\n",
            "Name: count, dtype: int64\n",
            "--------------------\n",
            "Value counts for column 'Diabetes':\n",
            "Diabetes\n",
            "No                                            259141\n",
            "Yes                                            40171\n",
            "No, pre-diabetes or borderline diabetes         6896\n",
            "Yes, but female told only during pregnancy      2646\n",
            "Name: count, dtype: int64\n",
            "--------------------\n",
            "Value counts for column 'Arthritis':\n",
            "Arthritis\n",
            "No     207783\n",
            "Yes    101071\n",
            "Name: count, dtype: int64\n",
            "--------------------\n",
            "Value counts for column 'Sex':\n",
            "Sex\n",
            "Female    160196\n",
            "Male      148658\n",
            "Name: count, dtype: int64\n",
            "--------------------\n",
            "Value counts for column 'Age_Category':\n",
            "Age_Category\n",
            "65-69    33434\n",
            "60-64    32418\n",
            "70-74    31103\n",
            "55-59    28054\n",
            "50-54    25097\n",
            "80+      22271\n",
            "40-44    21595\n",
            "45-49    20968\n",
            "75-79    20705\n",
            "35-39    20606\n",
            "18-24    18681\n",
            "30-34    18428\n",
            "25-29    15494\n",
            "Name: count, dtype: int64\n",
            "--------------------\n",
            "Value counts for column 'Smoking_History':\n",
            "Smoking_History\n",
            "No     183590\n",
            "Yes    125264\n",
            "Name: count, dtype: int64\n",
            "--------------------\n"
          ]
        }
      ]
    },
    {
      "cell_type": "code",
      "source": [
        "\n",
        "mapping = {\n",
        "    'Very Good': 4,\n",
        "    'Good': 3,\n",
        "    'Excellent': 5,\n",
        "    'Fair': 2,\n",
        "    'Poor': 1\n",
        "}\n",
        "\n",
        "df['General_Health'] = df['General_Health'].map(mapping)\n",
        "\n",
        "\n",
        "\n",
        "mapping2 = {\n",
        "   'No': 0,\n",
        "   'Yes': 1\n",
        "}\n",
        "\n",
        "Lista_cols  = ['Exercise', 'Heart_Disease', 'Skin_Cancer', 'Other_Cancer', 'Depression', 'Arthritis', 'Smoking_History']\n",
        "for col in Lista_cols:\n",
        "    df[col] = df[col].map(mapping2)\n",
        "\n",
        "mapping3 = {\n",
        "    'Yes': 1,\n",
        "    'No': 0,\n",
        "    'No, pre-diabetes or borderline diabetes': 1,\n",
        "    'Yes, but female told only during pregnancy': 1\n",
        "}\n",
        "\n",
        "df['Diabetes'] = df['Diabetes'].map(mapping3)\n"
      ],
      "metadata": {
        "id": "iumJqdW0H9L5"
      },
      "execution_count": 9,
      "outputs": []
    },
    {
      "cell_type": "code",
      "source": [
        "mapping4 = {\n",
        "    'Female': 1,\n",
        "    'Male': 0,\n",
        "}\n",
        "df['Sex'] = df['Sex'].map(mapping4)"
      ],
      "metadata": {
        "id": "opzlnIxJJeRF"
      },
      "execution_count": 10,
      "outputs": []
    },
    {
      "cell_type": "code",
      "source": [
        "#one-hot encoding\n",
        "\n",
        "from sklearn.preprocessing import OneHotEncoder\n",
        "\n",
        "categorical_cols = ['Checkup', 'Age_Category']\n",
        "\n",
        "encoder = OneHotEncoder(handle_unknown='ignore', sparse_output=False) # sparse=False to get a dense array\n",
        "\n",
        "encoded_features = encoder.fit_transform(df[categorical_cols])\n",
        "\n",
        "encoded_df = pd.DataFrame(encoded_features, columns=encoder.get_feature_names_out(categorical_cols))\n",
        "\n",
        "df = pd.concat([df, encoded_df], axis=1)\n",
        "\n",
        "df = df.drop(categorical_cols, axis=1)\n",
        "\n",
        "print(df.head())"
      ],
      "metadata": {
        "colab": {
          "base_uri": "https://localhost:8080/"
        },
        "id": "yKert_9_IaDa",
        "outputId": "f9ad969a-40cd-4a28-e68a-1227cbac354b"
      },
      "execution_count": 11,
      "outputs": [
        {
          "output_type": "stream",
          "name": "stdout",
          "text": [
            "   General_Health  Exercise  Heart_Disease  Skin_Cancer  Other_Cancer  \\\n",
            "0               1         0              0            0             0   \n",
            "1               4         0              1            0             0   \n",
            "2               4         1              0            0             0   \n",
            "3               1         1              1            0             0   \n",
            "4               3         0              0            0             0   \n",
            "\n",
            "   Depression  Diabetes  Arthritis  Sex  Height_(cm)  ...  Age_Category_35-39  \\\n",
            "0           0         0          1    1        150.0  ...                 0.0   \n",
            "1           0         1          0    1        165.0  ...                 0.0   \n",
            "2           0         1          0    1        163.0  ...                 0.0   \n",
            "3           0         1          0    0        180.0  ...                 0.0   \n",
            "4           0         0          0    0        191.0  ...                 0.0   \n",
            "\n",
            "   Age_Category_40-44  Age_Category_45-49  Age_Category_50-54  \\\n",
            "0                 0.0                 0.0                 0.0   \n",
            "1                 0.0                 0.0                 0.0   \n",
            "2                 0.0                 0.0                 0.0   \n",
            "3                 0.0                 0.0                 0.0   \n",
            "4                 0.0                 0.0                 0.0   \n",
            "\n",
            "   Age_Category_55-59  Age_Category_60-64  Age_Category_65-69  \\\n",
            "0                 0.0                 0.0                 0.0   \n",
            "1                 0.0                 0.0                 0.0   \n",
            "2                 0.0                 1.0                 0.0   \n",
            "3                 0.0                 0.0                 0.0   \n",
            "4                 0.0                 0.0                 0.0   \n",
            "\n",
            "   Age_Category_70-74  Age_Category_75-79  Age_Category_80+  \n",
            "0                 1.0                 0.0               0.0  \n",
            "1                 1.0                 0.0               0.0  \n",
            "2                 0.0                 0.0               0.0  \n",
            "3                 0.0                 1.0               0.0  \n",
            "4                 0.0                 0.0               1.0  \n",
            "\n",
            "[5 rows x 35 columns]\n"
          ]
        }
      ]
    },
    {
      "cell_type": "code",
      "source": [
        "# Porcentagem valores heart disease\n",
        "\n",
        "heart_disease_counts = df['Heart_Disease'].value_counts(normalize=True) * 100\n",
        "\n",
        "heart_disease_counts"
      ],
      "metadata": {
        "colab": {
          "base_uri": "https://localhost:8080/",
          "height": 178
        },
        "id": "c4NGuhx4Ogng",
        "outputId": "61503537-1c42-4cd2-9c7f-a28e238a3cb0"
      },
      "execution_count": 12,
      "outputs": [
        {
          "output_type": "execute_result",
          "data": {
            "text/plain": [
              "Heart_Disease\n",
              "0    91.91495\n",
              "1     8.08505\n",
              "Name: proportion, dtype: float64"
            ],
            "text/html": [
              "<div>\n",
              "<style scoped>\n",
              "    .dataframe tbody tr th:only-of-type {\n",
              "        vertical-align: middle;\n",
              "    }\n",
              "\n",
              "    .dataframe tbody tr th {\n",
              "        vertical-align: top;\n",
              "    }\n",
              "\n",
              "    .dataframe thead th {\n",
              "        text-align: right;\n",
              "    }\n",
              "</style>\n",
              "<table border=\"1\" class=\"dataframe\">\n",
              "  <thead>\n",
              "    <tr style=\"text-align: right;\">\n",
              "      <th></th>\n",
              "      <th>proportion</th>\n",
              "    </tr>\n",
              "    <tr>\n",
              "      <th>Heart_Disease</th>\n",
              "      <th></th>\n",
              "    </tr>\n",
              "  </thead>\n",
              "  <tbody>\n",
              "    <tr>\n",
              "      <th>0</th>\n",
              "      <td>91.91495</td>\n",
              "    </tr>\n",
              "    <tr>\n",
              "      <th>1</th>\n",
              "      <td>8.08505</td>\n",
              "    </tr>\n",
              "  </tbody>\n",
              "</table>\n",
              "</div><br><label><b>dtype:</b> float64</label>"
            ]
          },
          "metadata": {},
          "execution_count": 12
        }
      ]
    },
    {
      "cell_type": "code",
      "source": [
        "df.to_csv('df_processed.csv', index=False)"
      ],
      "metadata": {
        "id": "tHzAMPgkPqxM"
      },
      "execution_count": 21,
      "outputs": []
    }
  ],
  "metadata": {
    "kernelspec": {
      "display_name": "base",
      "language": "python",
      "name": "python3"
    },
    "language_info": {
      "codemirror_mode": {
        "name": "ipython",
        "version": 3
      },
      "file_extension": ".py",
      "mimetype": "text/x-python",
      "name": "python",
      "nbconvert_exporter": "python",
      "pygments_lexer": "ipython3",
      "version": "3.11.7"
    },
    "colab": {
      "provenance": []
    }
  },
  "nbformat": 4,
  "nbformat_minor": 0
}